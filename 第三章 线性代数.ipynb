{
 "cells": [
  {
   "cell_type": "markdown",
   "metadata": {},
   "source": [
    "## 距离余弦\n",
    "余弦夹角也可以叫做余弦相似度。几何中夹角余弦可以用来衡量两个向量方向的差异，机器学习中借用这一概念衡量样本之间的差异。\n",
    "### 公式化描述\n",
    "$$cos\\theta=\\frac{\\vec{\\pmb{a}}\\times\\vec{\\pmb b}}{|\\vec{\\pmb a}|\\times|\\vec{\\pmb b}|}$$\n",
    "在二维空间中，向量$\\pmb{A}(x_1, y_1)$与向量$\\pmb{B}(x_2, y_2)$的夹角余弦公式为：\n",
    "$$cos\\theta=\\frac{x_1x_2+y_1y_2}{\\sqrt{x_1^2+y_1^2}\\sqrt{x_2^2+y_2^2}}$$"
   ]
  },
  {
   "cell_type": "code",
   "execution_count": 30,
   "metadata": {},
   "outputs": [
    {
     "name": "stdout",
     "output_type": "stream",
     "text": [
      "余弦距离测试结果是:\t 0.9800610899989526\n",
      "余弦距离测试结果是:\t 0.9800610899989526\n"
     ]
    }
   ],
   "source": [
    "# 方法一：根据公式求解\n",
    "import numpy as np\n",
    "vec1 = [1, 2, 3, 3]\n",
    "vec2 = [5, 6, 7, 8]\n",
    "# 点乘结果\n",
    "dot = np.dot(vec1, vec2)\n",
    "# 标量相乘\n",
    "norm = np.linalg.norm(vec1)*np.linalg.norm(vec2)\n",
    "# 余弦距离测试结果\n",
    "print(\"余弦距离测试结果是:\\t\", dot/norm)\n",
    "# 方法二：根据scipy库求解\n",
    "from scipy.spatial.distance import pdist\n",
    "Vec = np.vstack([vec1, vec2])\n",
    "dist0 = 1-pdist(Vec, 'cosine')\n",
    "print(\"余弦距离测试结果是:\\t\", dist0[0])"
   ]
  },
  {
   "cell_type": "markdown",
   "metadata": {},
   "source": [
    "## 欧氏距离\n",
    "欧几里得距离是欧几里得空间中两点之间“普通”(即直线)距离。使用这个距离，欧式空间成为度量空间。相关联的范数称为欧几里得范数。\n",
    "### 公式化描述\n",
    "1. 二维平面上两点$a(x_1, y_1)$与$b(x_2, y_2)$间的欧式距离\n",
    "$$d_{12}=\\sqrt{(x_1-x_2)^2+(y_1-y_2)^2}$$\n",
    "2. 三维空间两点$a(x_1, y_1, z_1)$与$b(x_2, y_2, z_2)$间的欧式距离\n",
    "$$d_{12}=\\sqrt{(x_1-x_2)^2+(y_1-y_2)^2+(z_1-z_2)^2}$$\n",
    "3. 两个n维向量$\\pmb a(x_1, x_2, ..., x_n)$与$\\pmb b(y_1, y_2, ..., y_n)$ 之间的欧氏距离\n",
    "$$d_{12}=\\sqrt{(x_1-y_1)^2+(x_2-y_2)^2+...+(x_n-y_n)^2}=\\sqrt{\\sum_{i=1}^n(x_i-y_i)^2}$$\n",
    "表示成向量运算得到形式\n",
    "$$d_{12}=\\sqrt{(\\pmb{a} - \\pmb{b})(\\pmb{a} - \\pmb{b})^T}$$"
   ]
  },
  {
   "cell_type": "code",
   "execution_count": 46,
   "metadata": {},
   "outputs": [
    {
     "name": "stdout",
     "output_type": "stream",
     "text": [
      "欧氏距离的测试结果为:\t 8.54400374531753\n",
      "欧氏距离的测试结果为:\t 8.54400374531753\n",
      "欧氏距离的测试结果为:\t 8.54400374531753\n"
     ]
    }
   ],
   "source": [
    "import numpy as np\n",
    "vec1 = [1, 2, 3, 3]\n",
    "vec2 = [5, 6, 7, 8]\n",
    "# vec1 = np.array(vec1)\n",
    "# vec2 = np.array(vec2)\n",
    "# 将列表转换成矩阵\n",
    "vec1 = np.mat(vec1)\n",
    "vec2 = np.mat(vec2)\n",
    "# 方法一：根据公式求解\n",
    "dist1 = np.sqrt(np.sum(np.square(vec1 - vec2)))\n",
    "print(\"欧氏距离的测试结果为:\\t\", dist1)\n",
    "# 方法二：根据scipy库求解\n",
    "from scipy.spatial.distance import pdist\n",
    "Vec = np.vstack([vec1, vec2])\n",
    "dist2 = pdist(Vec)\n",
    "print(\"欧氏距离的测试结果为:\\t\", dist2[0])\n",
    "# 方法一：根据公式求解\n",
    "dist3 = np.sqrt((vec1 - vec2)*(vec1 - vec2).T)\n",
    "print(\"欧氏距离的测试结果为:\\t\", np.array(dist3)[0][0])"
   ]
  },
  {
   "cell_type": "markdown",
   "metadata": {},
   "source": [
    "##  曼哈顿距离\n",
    "曼哈顿从一个十字路口开车到另一个十字路口，驾驶距离不是两点之间的直线距离。时间驾驶距离就是这个“曼哈顿距离”。<br>\n",
    "1. 二维平面两点$a(x_1, y_1)$和$b(x_2, y_2)$之间的曼哈顿距离\n",
    "$$d_{12}=|(x_1-x_2)|+|y_1-y_2|$$\n",
    "2. 两个n维向量$a(x_1, x_2, ..., x_n)$与$b(y_1, y_2, ..., y_n)$之间的曼哈顿距离\n",
    "$$d_{12}=\\sum_{i=1}^n|x_i-y_i|$$"
   ]
  },
  {
   "cell_type": "code",
   "execution_count": 48,
   "metadata": {},
   "outputs": [
    {
     "name": "stdout",
     "output_type": "stream",
     "text": [
      "曼哈顿距离测试结果为:\t 16\n",
      "曼哈顿距离测试结果为:\t 16.0\n"
     ]
    }
   ],
   "source": [
    "import numpy as np\n",
    "vec1 = np.mat([1, 2, 3, 4])\n",
    "vec2 = np.mat([5, 6, 7, 8])\n",
    "# 方法一：根据公式求解\n",
    "dist1 = np.sum(np.abs(vec1 - vec2))\n",
    "print(\"曼哈顿距离测试结果为:\\t\", dist1)\n",
    "# 方法二：根据scipy库求解\n",
    "from scipy.spatial.distance import pdist\n",
    "Vec = np.vstack([vec1, vec2])\n",
    "dist2 = pdist(Vec, 'cityblock')\n",
    "print(\"曼哈顿距离测试结果为:\\t\", dist2[0])\n"
   ]
  },
  {
   "cell_type": "markdown",
   "metadata": {},
   "source": [
    "## 明可夫斯基距离\n",
    "明式距离又称作明可夫斯基距离，是欧氏距离中的一种测度，被看作欧氏距离和曼哈顿距离的一种推广。\n",
    "\n",
    "两个n维向量$a(x_1, x_2, ..., x_n)$与$b(y_1, y_2, ..., y_n)$之间的曼哈顿距离\n",
    "\n",
    "$$d_{12}=p\\sqrt{\\sum_{i=1}^n|x_i-y_i|^2} $$\n",
    "也可以写成\n",
    "$$d_{12}=(\\sum_{i=1}^n|x_i-y_i|^p)^{\\frac{1}{p}}$$\n",
    "其中$p$是一个参数。<br>\n",
    "(1)当$p=1$时，就是曼哈顿距离。<br>\n",
    "(2)当$p=2$时，就是欧氏距离。<br>\n",
    "(3)当$p\\to\\infty$时，就是切比雪夫距离。"
   ]
  },
  {
   "cell_type": "markdown",
   "metadata": {},
   "source": [
    "## 切比雪夫距离\n",
    "切比雪夫距离是向量空间中的一种度量，两个点之间的距离定义为其各坐标数值差的最大值。以$(x_1, y_1)和(x_2, y_2)$两点为例，其切比雪夫距离为$max(|x_2-x_1|, |y_2-y_1|)$。\n",
    "###  公式化描述\n",
    "$\\circledcirc$二维平面两点$a(x_1, y_1)$与$b(x_2, y_2)$之间的切比雪夫距离\n",
    "$$d_{12}=max(|x_1-x_2|, |y_1-y_2|)$$\n",
    "$\\circledcirc$两个$n$维向量$a(x_1, x_2, ..., x_n)$与$b(y_1, y_2, ..., y_n)$之间的切比雪夫距离\n",
    "$$d_{12}=\\max_{i}(|x_i-y_i|)$$\n",
    "还可以表示为\n",
    "$$d_{12}=\\lim_{k\\to\\infty}(\\sum_{i=1}^n|x_i-y_i|^k)^{\\frac{1}{k}}$$"
   ]
  },
  {
   "cell_type": "code",
   "execution_count": 7,
   "metadata": {},
   "outputs": [
    {
     "name": "stdout",
     "output_type": "stream",
     "text": [
      "切比雪夫距离测试结果是： 4\n",
      "切比雪夫距离测试结果是： 4.0\n"
     ]
    }
   ],
   "source": [
    "import numpy as np\n",
    "vec1 = np.mat([1, 2, 3, 4])\n",
    "vec2 = np.mat([5, 6, 7, 8])\n",
    "# 方法一：根据公式求解\n",
    "dist1=np.max(np.abs(vec1-vec2))\n",
    "print(\"切比雪夫距离测试结果是：\", dist1)\n",
    "# 方法二：根据scipy库求解\n",
    "from scipy.spatial.distance import pdist\n",
    "Vec=np.vstack([vec1, vec2])\n",
    "dist2 = pdist(Vec, 'chebyshev')\n",
    "print(\"切比雪夫距离测试结果是：\", dist2[0])\n"
   ]
  },
  {
   "cell_type": "markdown",
   "metadata": {},
   "source": [
    "## 杰卡德距离\n",
    "杰卡德相似系数：两个集合A和B的交集在A、B的并集中所占的比例，称为两个集合的杰卡德相似系数，用符号$J(A, B)$表示。可将杰卡德相似系数用在衡量样本的相似度上。<br>\n",
    "杰卡德距离：与杰卡德相似系数相反的概念，即杰卡德距离用这两个集合中的不同元素占所有元素的比例来衡量两个集合的区分度。这是杰卡德距离。<br>\n",
    "杰卡德相似系数用公式描述：\n",
    "$$J(A, B)=\\frac{A\\cap B}{A\\cup B}$$\n",
    "杰卡德距离可用如下公式描述：\n",
    "$$J_{\\delta}(A, B)=1-J(A, B)=\\frac{A\\cup B - A\\cap B}{A\\cup B}$$"
   ]
  },
  {
   "cell_type": "code",
   "execution_count": 17,
   "metadata": {},
   "outputs": [
    {
     "name": "stdout",
     "output_type": "stream",
     "text": [
      "[[1 1 0 1 0 1 1 0 1 1]\n",
      " [0 1 0 0 1 0 1 1 0 0]]\n",
      "杰卡德距离测试结果是： 0.7777777777777778\n",
      "7.0 9.0\n",
      "杰卡德距离测试结果是： 0.7777777777777778\n"
     ]
    }
   ],
   "source": [
    "import numpy as np\n",
    "v1 = np.random.random(10)>0.5\n",
    "v2 = np.random.random(10)>0.5\n",
    "vec1 = np.asarray(v1, np.int32)\n",
    "vec2 = np.asarray(v2, np.int32)\n",
    "print(np.vstack((vec1, vec2)))\n",
    "# 方法一：根据公式求解\n",
    "up = np.double(np.bitwise_and((vec1 != vec2), np.bitwise_or(vec1 != 0, vec2 != 0)).sum())\n",
    "down = np.double(np.bitwise_or(vec1 != 0, vec2 != 0).sum())\n",
    "dist1 = up / down\n",
    "print(\"杰卡德距离测试结果是：\", dist1)\n",
    "print(up, down)\n",
    "# 方法二：根据scipy库求解\n",
    "from scipy.spatial.distance import pdist\n",
    "Vec = np.vstack((vec1, vec2))\n",
    "dist2 = pdist(Vec, 'jaccard')\n",
    "print(\"杰卡德距离测试结果是：\", dist2[0])"
   ]
  },
  {
   "cell_type": "markdown",
   "metadata": {},
   "source": [
    "## 汉明距离\n",
    "在信息论中，两个等长字符串的汉明距离是两个字符串对应位置的不同字符的个数。换句话说，它就是将一个字符串变换成另一个字符串所需要替换的字符个数。<br>\n",
    "范例描述:<br>\n",
    "1. 1011101 与 1001001 之间的汉明距离是2\n",
    "2. 2143896 与 2233796 之间的汉明距离是3\n",
    "3. \"toned\" 与 \"roses\" 之间的汉明距离是3"
   ]
  },
  {
   "cell_type": "code",
   "execution_count": 19,
   "metadata": {},
   "outputs": [
    {
     "name": "stdout",
     "output_type": "stream",
     "text": [
      "[[1 0 0 1 1 0 1 0 1 0]\n",
      " [0 0 0 0 1 1 1 1 1 1]]\n",
      "汉明距离测试结果是： 0.5\n",
      "杰卡德距离测试结果是： 0.5\n"
     ]
    }
   ],
   "source": [
    "import numpy as np\n",
    "v1 = np.random.random(10)>0.5\n",
    "v2 = np.random.random(10)>0.5\n",
    "vec1 = np.asarray(v1, np.int32)\n",
    "vec2 = np.asarray(v2, np.int32)\n",
    "print(np.vstack((vec1, vec2)))\n",
    "# 方法一：根据公式求(只适用与二值化类型，对于单词，句子则需要用算法)\n",
    "dist1 = np.mean(vec1 != vec2)\n",
    "print(\"汉明距离测试结果是：\", dist1)\n",
    "\n",
    "# 方法二：根据scipy库求解\n",
    "from scipy.spatial.distance import pdist\n",
    "Vec = np.vstack((vec1, vec2))\n",
    "dist2 = pdist(Vec, 'hamming')\n",
    "print(\"杰卡德距离测试结果是：\", dist2[0])"
   ]
  },
  {
   "cell_type": "markdown",
   "metadata": {},
   "source": [
    "##  标准化欧式距离\n",
    "标准化欧氏距离是针对简单欧氏距离的缺点而做的一种改进方案。标准欧式距离的思路：既然数据各维分量的分布不一样，那先将各个分量都\"标准化\"到均值、方差相等。<br>\n",
    "假设样本集$X$的均值为$m$,标准差为$s$,那么$X$的\"标准化变量\"表示为\n",
    "$$X^*= \\frac{X-m}{s}$$\n",
    "标准化后的值 = (标准化前的值-分量的均值)/分量的标准差<br>\n",
    "### 公式化描述\n",
    "两个$n$维向量$a(x_1, x_2, ..., x_n)$与$b(y_1, y_2, ..., y_n)$之间的标准化欧氏距离的公式：\n",
    "$$d_{12}=\\sqrt{\\sum_{k=1}^n(\\frac{x_i-y_i}{S_k})^2}$$"
   ]
  },
  {
   "cell_type": "code",
   "execution_count": 24,
   "metadata": {},
   "outputs": [
    {
     "name": "stdout",
     "output_type": "stream",
     "text": [
      "标准化欧氏距离测试结果是： 2.8284271247461903\n",
      "标准化欧式距离测试结果： 2.8284271247461903\n"
     ]
    }
   ],
   "source": [
    "import numpy as np\n",
    "vec1 = np.array([1, 2, 3, 4])\n",
    "vec2 = np.array([5, 6, 7, 8])\n",
    "Vec = np.array([vec1, vec2])\n",
    "\n",
    "# 方法一：根据公式求解\n",
    "sk = np.var(Vec, axis=0, ddof=1)\n",
    "dist1 = np.sqrt(((vec1 - vec2)**2 / sk).sum())\n",
    "print(\"标准化欧氏距离测试结果是：\", dist1)\n",
    "# 方法二：根据scipy库求解\n",
    "from scipy.spatial.distance import pdist\n",
    "dist2 = pdist(Vec, 'seuclidean')\n",
    "print(\"标准化欧式距离测试结果：\", dist2[0])"
   ]
  },
  {
   "cell_type": "markdown",
   "metadata": {},
   "source": [
    "## 皮尔逊相关系数\n",
    "在统计学中，皮尔逊矩阵相关系数用于度量两个变量X和Y之间的相关性程度(线性相关)，其值介于-1与1之间。在自然科学领域中，该系数广泛用于度量两个变量之间的相关性程度。\n",
    "### 公式化描述\n",
    "计算相关系数\n",
    "$$Corr(x, y)=\\frac{\\sum_i{(x_i-\\vec x)(y_i-\\vec y)}}{\\sqrt{\\sum{(x_i-\\vec x)^2}}\\sqrt{\\sum{(y_i-\\vec y)^2}}}=\\frac{<\\pmb x - \\vec x , \\pmb y - \\vec y>}{||\\pmb x - \\vec x||||\\pmb y - \\vec y||}$$"
   ]
  },
  {
   "cell_type": "code",
   "execution_count": 26,
   "metadata": {},
   "outputs": [
    {
     "name": "stdout",
     "output_type": "stream",
     "text": [
      "皮尔逊相关系数测试结果是： 0.9999999999999998\n",
      "皮尔逊相关系数测试结果是： 1.0\n"
     ]
    }
   ],
   "source": [
    "import numpy as np\n",
    "vec1 = np.array([1, 2, 3, 4])\n",
    "vec2 = np.array([5, 6, 7, 8])\n",
    "\n",
    "# 方法一：根据公式求解\n",
    "vec1_=vec1 - np.mean(vec1)\n",
    "vec2_=vec2 - np.mean(vec2)\n",
    "dist1 = np.dot(vec1_, vec2_)/(np.linalg.norm(vec1_)*np.linalg.norm(vec2_))\n",
    "print(\"皮尔逊相关系数测试结果是：\", dist1)\n",
    "\n",
    "# 方法二：根据numpy 库求解\n",
    "Vec = np.vstack([vec1, vec2])\n",
    "dist2 = np.corrcoef(Vec)[0][1]\n",
    "print(\"皮尔逊相关系数测试结果是：\", dist2)"
   ]
  },
  {
   "cell_type": "code",
   "execution_count": null,
   "metadata": {},
   "outputs": [],
   "source": []
  }
 ],
 "metadata": {
  "kernelspec": {
   "display_name": "Python 3",
   "language": "python",
   "name": "python3"
  },
  "language_info": {
   "codemirror_mode": {
    "name": "ipython",
    "version": 3
   },
   "file_extension": ".py",
   "mimetype": "text/x-python",
   "name": "python",
   "nbconvert_exporter": "python",
   "pygments_lexer": "ipython3",
   "version": "3.8.3"
  }
 },
 "nbformat": 4,
 "nbformat_minor": 4
}
