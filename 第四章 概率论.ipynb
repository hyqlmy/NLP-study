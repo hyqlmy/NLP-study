{
 "cells": [
  {
   "cell_type": "markdown",
   "metadata": {},
   "source": [
    "## 概率公理\n",
    "<br>公理1：事件A的概率P(A)是一个0与1之间(包含0与1之间)的非负数实数。\n",
    "$$0\\le P(A) \\le 1(A\\in S)$$\n",
    "公理2：事件空间的概率值为1.\n",
    "$$P(S) = 1$$\n",
    "公理3：互斥事件的加法法则。这里需要注意：公理3可以推广到可数个互斥事件的联集。\n",
    "$$P(A \\cup B) = P(A) + P(B) 如果：A \\cap B = \\emptyset$$\n",
    "<br>\n",
    "定理1(互斥法则)：与A互斥事件的概率始终是\n",
    "$$P(\\bar A) = 1 - P(A), A \\in S$$\n",
    "定理2：不可能事件的概率为零\n",
    "$$P(\\emptyset) = 0$$\n",
    "定理3：如果若干事件，$A_1, A_2, ..., A_n \\in S$每两两之间是空集关系，那么这些所有事件集合的概率等于单个事件的概率的和。\n",
    "$$P(A_1 \\cup A_2 \\cup ...\\cup A_n) = \\sum_{j=1}^nP(A_j)$$\n",
    "注意，针对这一定理有效性的决定因素是$A_1,..., A_n$事件不能同时发生。例如，在一次掷骰子中，得到5点或者6点多的概率是：\n",
    "$$P = P(A_5)+P(A_6) == \\frac{2}{6} = \\frac{1}{3}$$\n",
    "定理4：如果事件A、B是差集关系，则有\n",
    "$$P(\\frac{A}{B}) = P(A) - P(A\\cap B)$$\n",
    "定理5(任意事件加法法则)：对于事件空间S中的任意两个事件A和B，有如下定理。\n",
    "$$P(A\\cup B) = P(A)+P(B)-P(A\\cap B)$$\n",
    "定理6(乘法法则)：事件A、B同时发生的概率是：\n",
    "$$P(A\\cap B) = P(A)\\dot P(B|A) = P(B)\\dot P(A|B)$$\n",
    "定理7(无关事件乘法法则)：两个不相关联的事件A、B同时发生的概率是：\n",
    "$$P(A\\cap B) = P(A)\\dot P(B)$$"
   ]
  },
  {
   "cell_type": "markdown",
   "metadata": {},
   "source": [
    "# 条件概率和全概率\n",
    "## 条件概率\n",
    "### 条件概率的描述\n",
    "设试验E的样本空间为S，事件包括A、B，要考虑在A已经发生的条件下B发生的概率，这就是条件概率问题。\n",
    "### 条件概率的定义\n",
    "设A、B是两个事件，且P(A)>0,称：$P(A|B) = \\frac{P(AB)}{P(A)}$(AB不独立)<br>\n",
    "设A、B是两个事件，且P(A)>0,称：$P(A|B) = P(A)$(AB独立)\n",
    "### 条件概率的性质\n",
    "性质1：对于每一个事件B，有$0\\le P(B|A)\\le 1$<br>\n",
    "性质2：$P(S|A) = 1$<br>\n",
    "性质3：设$B_1, B_2, ..., B_n$两两不相容，则$P(UB_i|A) = \\sum P(B_i|A)$\n",
    "### 条件概率的计算方法\n",
    "(1)公式法<br>\n",
    "先计算P(A)、P(AB),然后按公式计算$P(B|A) = P(AB)/P(A)$<br>\n",
    "(2)图解法：利用概率树求解\n",
    "### 使用概率树求解问题的优缺点\n",
    "优点：能够以图形体现条件概率，同时帮助计算概率，利用分支结构，条理清楚，不易算错<br>\n",
    "缺点：画概率树很浪费时间\n",
    "## 全概率\n",
    "### 概念介绍\n",
    "n个事件$H_1, H_2, ..., H_n$互相独立，且共同组成整个事件空间S，即\n",
    "$$H_i\\cap H_j = \\emptyset , (i\\ne j)$$\n",
    "以及\n",
    "$$H_1\\cup H_2 \\cup ...\\cup H_n = S$$\n",
    "这时A的概率可以表示为\n",
    "$$P(A) = \\sum_{j=1}^nP(A|H_j)\\dot P(H_j)$$"
   ]
  },
  {
   "cell_type": "markdown",
   "metadata": {},
   "source": [
    "## 贝叶斯定理\n",
    "### 贝叶斯公式\n",
    "贝叶斯定理用来描述两个条件概率之间的关系，比如P(A|B)和P(B|A)。按照定理6的乘法法则，$P(A\\cap B) = P(A)\\dot P(B|A) = P(B)\\dot P(A|B)$,可以立刻导出贝叶斯定理：\n",
    "$$P(A|B) = \\frac{P(B|A)\\dot P(A)}{P(B)}$$\n",
    "### 案例\n",
    "现分别有A、B两个容器，在容器A里分别有7个红球和3个白球，在容器B里有1个红球和9个白球，现已知从这两个里任意抽出一个球，且是红球，问这个红球是来自容器A的概率是多少？<br>\n",
    "假设已经抽出红球的事件为B，从容器A里抽出球为事件A，则有：\n",
    "$$P(B) = \\frac{8}{20}, P(A) = \\frac{1}{2}, P(B|A) = \\frac{7}{10}$$\n",
    "按照公式，则有：\n",
    "$$P(A|B) = \\frac{7}{10}\\times \\frac{1}{2}\\times \\frac{20}{8} = \\frac{7}{10}$$"
   ]
  },
  {
   "cell_type": "code",
   "execution_count": null,
   "metadata": {},
   "outputs": [],
   "source": []
  },
  {
   "cell_type": "code",
   "execution_count": null,
   "metadata": {},
   "outputs": [],
   "source": []
  },
  {
   "cell_type": "code",
   "execution_count": null,
   "metadata": {},
   "outputs": [],
   "source": []
  },
  {
   "cell_type": "code",
   "execution_count": null,
   "metadata": {},
   "outputs": [],
   "source": []
  },
  {
   "cell_type": "code",
   "execution_count": null,
   "metadata": {},
   "outputs": [],
   "source": []
  },
  {
   "cell_type": "code",
   "execution_count": null,
   "metadata": {},
   "outputs": [],
   "source": []
  }
 ],
 "metadata": {
  "kernelspec": {
   "display_name": "Python 3",
   "language": "python",
   "name": "python3"
  },
  "language_info": {
   "codemirror_mode": {
    "name": "ipython",
    "version": 3
   },
   "file_extension": ".py",
   "mimetype": "text/x-python",
   "name": "python",
   "nbconvert_exporter": "python",
   "pygments_lexer": "ipython3",
   "version": "3.8.3"
  }
 },
 "nbformat": 4,
 "nbformat_minor": 4
}
